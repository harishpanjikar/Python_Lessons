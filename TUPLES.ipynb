{
 "cells": [
  {
   "cell_type": "markdown",
   "id": "7f284272",
   "metadata": {},
   "source": [
    "#### What is a tuple? "
   ]
  },
  {
   "cell_type": "markdown",
   "id": "6581a125",
   "metadata": {},
   "source": [
    "A tuple is a collection of ordered, immutable and heterogenous elements enclosed in parentheses '()'. It is very similar to list but its values cannot be modified. "
   ]
  },
  {
   "cell_type": "markdown",
   "id": "1fdd8190",
   "metadata": {},
   "source": [
    "#### Properties of Tuples"
   ]
  },
  {
   "cell_type": "markdown",
   "id": "8c53f527",
   "metadata": {},
   "source": [
    "-  Ordered: The elements in teh tuple are ordered which helps you access the elemets of the tuple via its index. \n",
    "\n",
    "-  Immutable: Tuples are immutable unlike lists. Once the tuple is created and the elements are added to the tuple, one cannot add or remove or replace the elements from it. \n",
    "\n",
    "-  Heterogenous: Tuples can have a mixture of elements of any datatypes. \n",
    "\n",
    "-  Indexing and slicing: You can access individual elements of a tuple using indexing, just like you can with lists. Additionally, you can slice tuples using the colon : operator.\n",
    "\n",
    "-  Iterable: Tuples are iterable, which means that you can use a for loop to iterate over the elements of a tuple\n",
    "\n",
    "-  Hashable: Tuples are hashable, which means that you can use them as keys in a dictionary or as elements in a set.\n",
    "\n",
    "-  Memory efficient: Tuples are more memory efficient than lists, especially when they contain a small number of elements. This is because tuples are stored as a single object in memory, while lists are stored as separate objects for each element.\n",
    "\n",
    "-  Used for function return values and multiple assignments: Tuples are commonly used to return multiple values from a function and for multiple assignments, where you assign multiple variables at once using a tuple."
   ]
  },
  {
   "cell_type": "code",
   "execution_count": 5,
   "id": "c7bed162",
   "metadata": {},
   "outputs": [
    {
     "name": "stdout",
     "output_type": "stream",
     "text": [
      "42\n"
     ]
    }
   ],
   "source": [
    "my_tuple = (42, \"hello\", True)\n",
    "print(my_tuple[0])\n"
   ]
  },
  {
   "cell_type": "code",
   "execution_count": 6,
   "id": "b58fbdad",
   "metadata": {},
   "outputs": [
    {
     "ename": "TypeError",
     "evalue": "'tuple' object does not support item assignment",
     "output_type": "error",
     "traceback": [
      "\u001b[0;31m---------------------------------------------------------------------------\u001b[0m",
      "\u001b[0;31mTypeError\u001b[0m                                 Traceback (most recent call last)",
      "\u001b[0;32m/var/folders/03/h994clb13fqgfy51lcqd3sxw0000gn/T/ipykernel_15545/2137973078.py\u001b[0m in \u001b[0;36m<module>\u001b[0;34m\u001b[0m\n\u001b[1;32m      1\u001b[0m \u001b[0mmy_tuple\u001b[0m \u001b[0;34m=\u001b[0m \u001b[0;34m(\u001b[0m\u001b[0;36m42\u001b[0m\u001b[0;34m,\u001b[0m \u001b[0;34m\"hello\"\u001b[0m\u001b[0;34m,\u001b[0m \u001b[0;32mTrue\u001b[0m\u001b[0;34m)\u001b[0m\u001b[0;34m\u001b[0m\u001b[0;34m\u001b[0m\u001b[0m\n\u001b[0;32m----> 2\u001b[0;31m \u001b[0mmy_tuple\u001b[0m\u001b[0;34m[\u001b[0m\u001b[0;36m0\u001b[0m\u001b[0;34m]\u001b[0m \u001b[0;34m=\u001b[0m \u001b[0;32mTrue\u001b[0m\u001b[0;34m\u001b[0m\u001b[0;34m\u001b[0m\u001b[0m\n\u001b[0m\u001b[1;32m      3\u001b[0m \u001b[0mprint\u001b[0m\u001b[0;34m(\u001b[0m\u001b[0mmy_tuple\u001b[0m\u001b[0;34m)\u001b[0m\u001b[0;34m\u001b[0m\u001b[0;34m\u001b[0m\u001b[0m\n",
      "\u001b[0;31mTypeError\u001b[0m: 'tuple' object does not support item assignment"
     ]
    }
   ],
   "source": [
    "my_tuple = (42, \"hello\", True)\n",
    "my_tuple[0] = True\n",
    "print(my_tuple)"
   ]
  },
  {
   "cell_type": "code",
   "execution_count": 8,
   "id": "0a287083",
   "metadata": {},
   "outputs": [
    {
     "name": "stdout",
     "output_type": "stream",
     "text": [
      "banana\n",
      "mango\n",
      "('banana', 'cherry', 'orange')\n",
      "('apple', 'banana', 'cherry')\n",
      "('cherry', 'orange', 'mango')\n"
     ]
    }
   ],
   "source": [
    "my_tuple = ('apple', 'banana', 'cherry', 'orange', 'mango')\n",
    "print(my_tuple[1])  \n",
    "print(my_tuple[4])  \n",
    "print(my_tuple[1:4])\n",
    "print(my_tuple[:3])  \n",
    "print(my_tuple[2:])  \n"
   ]
  },
  {
   "cell_type": "code",
   "execution_count": 11,
   "id": "95b014af",
   "metadata": {},
   "outputs": [
    {
     "name": "stdout",
     "output_type": "stream",
     "text": [
      "10\n",
      "{'grape', 'orange', ('apple', 'banana', 'cherry')}\n"
     ]
    }
   ],
   "source": [
    "my_tuple = ('apple', 'banana', 'cherry')\n",
    "my_dict = {my_tuple: 10}\n",
    "print(my_dict[my_tuple]) \n",
    "my_set = {my_tuple, 'orange', 'grape', 'orange'}\n",
    "print(my_set) "
   ]
  },
  {
   "cell_type": "markdown",
   "id": "0f6d8a2b",
   "metadata": {},
   "source": [
    "#### Methods in Tuple "
   ]
  },
  {
   "cell_type": "markdown",
   "id": "cf0019c3",
   "metadata": {},
   "source": [
    "-  count(x): returns the number of times the value of has been repeated or appears in the tuple."
   ]
  },
  {
   "cell_type": "code",
   "execution_count": 12,
   "id": "14fc2fb4",
   "metadata": {},
   "outputs": [
    {
     "name": "stdout",
     "output_type": "stream",
     "text": [
      "3\n"
     ]
    }
   ],
   "source": [
    "tup = (1,2,4,5,3,5,5,7,3)\n",
    "print(tup.count(5))"
   ]
  },
  {
   "cell_type": "markdown",
   "id": "6b393d0a",
   "metadata": {},
   "source": [
    "-  index(x): returns the index of first occurrence of the value of 'x' in the tuple."
   ]
  },
  {
   "cell_type": "code",
   "execution_count": 13,
   "id": "25b1070a",
   "metadata": {},
   "outputs": [
    {
     "name": "stdout",
     "output_type": "stream",
     "text": [
      "2\n"
     ]
    }
   ],
   "source": [
    "my_tuple = (1, 2, 3, 2, 4, 2)\n",
    "print(my_tuple.index(3))"
   ]
  },
  {
   "cell_type": "markdown",
   "id": "6367d1da",
   "metadata": {},
   "source": [
    "-  len(tuple): Returns the number of elements in the tuple."
   ]
  },
  {
   "cell_type": "code",
   "execution_count": 14,
   "id": "369add31",
   "metadata": {},
   "outputs": [
    {
     "name": "stdout",
     "output_type": "stream",
     "text": [
      "5\n"
     ]
    }
   ],
   "source": [
    "my_tuple = (1, 2, 3, 4, 5)\n",
    "print(len(my_tuple)) "
   ]
  },
  {
   "cell_type": "markdown",
   "id": "5904cb99",
   "metadata": {},
   "source": [
    "#### Operations in tuple "
   ]
  },
  {
   "cell_type": "markdown",
   "id": "c6ade12d",
   "metadata": {},
   "source": [
    "- indexing: You can accesss the elements of the tuple using the index. "
   ]
  },
  {
   "cell_type": "code",
   "execution_count": 15,
   "id": "757173e7",
   "metadata": {},
   "outputs": [
    {
     "name": "stdout",
     "output_type": "stream",
     "text": [
      "3\n"
     ]
    }
   ],
   "source": [
    "tup = (1,2,3,4,5)\n",
    "print(tup.index(4))"
   ]
  },
  {
   "cell_type": "markdown",
   "id": "2fbf2217",
   "metadata": {},
   "source": [
    "- Slicing: You can access the subset of elements using slicing. "
   ]
  },
  {
   "cell_type": "code",
   "execution_count": 17,
   "id": "1a7812cd",
   "metadata": {},
   "outputs": [
    {
     "name": "stdout",
     "output_type": "stream",
     "text": [
      "(3, 4, 5)\n"
     ]
    }
   ],
   "source": [
    "tup = (1,2,3,4,5)\n",
    "print(tup[2:])"
   ]
  },
  {
   "cell_type": "markdown",
   "id": "a1c565db",
   "metadata": {},
   "source": [
    "- concatenation: You can add two or more tuples using + operator."
   ]
  },
  {
   "cell_type": "code",
   "execution_count": 19,
   "id": "8aae4dd7",
   "metadata": {},
   "outputs": [
    {
     "name": "stdout",
     "output_type": "stream",
     "text": [
      "(1, 2, 3, 4, 5, 6, 7)\n"
     ]
    }
   ],
   "source": [
    "tup1 = (1,2,3,4,5)\n",
    "tup2 =(6,7)\n",
    "my_tuple = tup1 + tup2\n",
    "print(my_tuple)"
   ]
  },
  {
   "cell_type": "markdown",
   "id": "0a6b63a0",
   "metadata": {},
   "source": [
    "- Repetition: You can repeat the tuple n numver of times using * operator."
   ]
  },
  {
   "cell_type": "code",
   "execution_count": 20,
   "id": "a7d6d680",
   "metadata": {},
   "outputs": [
    {
     "name": "stdout",
     "output_type": "stream",
     "text": [
      "(6, 7, 6, 7, 6, 7)\n"
     ]
    }
   ],
   "source": [
    "tup2 =(6,7)*3\n",
    "print(tup2)"
   ]
  },
  {
   "cell_type": "markdown",
   "id": "02a6dcc8",
   "metadata": {},
   "source": [
    "- Membership testing: It checks if the element that you are looking for is available in the tuple. "
   ]
  },
  {
   "cell_type": "code",
   "execution_count": 22,
   "id": "1a8cdb38",
   "metadata": {},
   "outputs": [
    {
     "name": "stdout",
     "output_type": "stream",
     "text": [
      "True\n",
      "False\n"
     ]
    }
   ],
   "source": [
    "tup1 = (1,2,3,4,5)\n",
    "print(4 in tup1)\n",
    "print(7 in tup1)"
   ]
  },
  {
   "cell_type": "markdown",
   "id": "30dc738b",
   "metadata": {},
   "source": [
    "#### Packing and Unpacking of tuples\n"
   ]
  },
  {
   "cell_type": "markdown",
   "id": "d566cbc3",
   "metadata": {},
   "source": [
    "Whenever you create a tuple with values or elements to it. This is called packing."
   ]
  },
  {
   "cell_type": "code",
   "execution_count": 23,
   "id": "4dbed8e6",
   "metadata": {},
   "outputs": [],
   "source": [
    "fruits = (\"apple\", \"banana\", \"cherry\")"
   ]
  },
  {
   "cell_type": "markdown",
   "id": "9da72072",
   "metadata": {},
   "source": [
    "We can also extract elements of the tuple into variables. This is called \"unpacking\"."
   ]
  },
  {
   "cell_type": "code",
   "execution_count": 24,
   "id": "01bc55ba",
   "metadata": {},
   "outputs": [
    {
     "name": "stdout",
     "output_type": "stream",
     "text": [
      "apple\n",
      "banana\n",
      "cherry\n"
     ]
    }
   ],
   "source": [
    "fruits = (\"apple\", \"banana\", \"cherry\")\n",
    "\n",
    "(green, yellow, red) = fruits\n",
    "\n",
    "print(green)\n",
    "print(yellow)\n",
    "print(red)\n"
   ]
  },
  {
   "cell_type": "markdown",
   "id": "ffdaf09c",
   "metadata": {},
   "source": [
    "Incase you have less variables compared to the number of elements in the tuple, you can use * with the variable and rest of the elements will be assigned to that variable in the form of list."
   ]
  },
  {
   "cell_type": "code",
   "execution_count": 27,
   "id": "d5a3f91e",
   "metadata": {},
   "outputs": [
    {
     "name": "stdout",
     "output_type": "stream",
     "text": [
      "apple\n",
      "['banana', 'cherry', 'strawberry']\n",
      "raspberry\n"
     ]
    }
   ],
   "source": [
    "fruits = (\"apple\", \"banana\", \"cherry\", \"strawberry\", \"raspberry\")\n",
    "\n",
    "(green, *yellow, red) = fruits\n",
    "\n",
    "print(green)\n",
    "print(yellow)\n",
    "print(red)"
   ]
  },
  {
   "cell_type": "markdown",
   "id": "3ff6e1a1",
   "metadata": {},
   "source": [
    "#### Use-case of tuples"
   ]
  },
  {
   "cell_type": "markdown",
   "id": "ecd16af4",
   "metadata": {},
   "source": [
    "- tuples can be used for grouping a related data\n",
    "\n",
    "- tuples can be used returning multiple values from a function.\n",
    "\n",
    "- It can be used for immutable data structures. It helps in situations where you do not want anyone to modify the data you have created.\n",
    "\n"
   ]
  },
  {
   "cell_type": "markdown",
   "id": "688900a8",
   "metadata": {},
   "source": [
    "#### Advantages of tuples over lists"
   ]
  },
  {
   "cell_type": "markdown",
   "id": "d2ebb9c7",
   "metadata": {},
   "source": [
    "- immutability\n",
    "\n",
    "- memory efficient\n",
    "\n",
    "- safe to use as dictionary keys"
   ]
  },
  {
   "cell_type": "code",
   "execution_count": null,
   "id": "7966228e",
   "metadata": {},
   "outputs": [],
   "source": []
  }
 ],
 "metadata": {
  "kernelspec": {
   "display_name": "Python 3 (ipykernel)",
   "language": "python",
   "name": "python3"
  },
  "language_info": {
   "codemirror_mode": {
    "name": "ipython",
    "version": 3
   },
   "file_extension": ".py",
   "mimetype": "text/x-python",
   "name": "python",
   "nbconvert_exporter": "python",
   "pygments_lexer": "ipython3",
   "version": "3.9.13"
  }
 },
 "nbformat": 4,
 "nbformat_minor": 5
}
