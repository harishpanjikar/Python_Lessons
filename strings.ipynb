{
 "cells": [
  {
   "cell_type": "markdown",
   "id": "be5348c9",
   "metadata": {},
   "source": [
    "# STRINGS"
   ]
  },
  {
   "cell_type": "markdown",
   "id": "4c952e27",
   "metadata": {},
   "source": [
    "### What are strings? "
   ]
  },
  {
   "cell_type": "markdown",
   "id": "d98e6d0c",
   "metadata": {},
   "source": [
    "In a programming language, a string is a sequenece of characters. \n",
    "For example, \"hello\" is a string consisting of 'h','e','l','l'and 'o'.\n",
    "\n",
    "Let me show you how string in used in code. "
   ]
  },
  {
   "cell_type": "code",
   "execution_count": 5,
   "id": "688f517c",
   "metadata": {},
   "outputs": [
    {
     "name": "stdout",
     "output_type": "stream",
     "text": [
      "hello\n"
     ]
    }
   ],
   "source": [
    "string = 'hello'\n",
    "print(string)"
   ]
  },
  {
   "cell_type": "markdown",
   "id": "a5efe6bd",
   "metadata": {},
   "source": [
    "If you see above the word hello is saved used with 'single quotes' which helps identify as a string. A string is created and saved in a variable named string which when printed gives the output of what's stored in the above variable. "
   ]
  },
  {
   "cell_type": "markdown",
   "id": "5b2ceab6",
   "metadata": {},
   "source": [
    "There are multiple ways in which you can create strings. \n",
    "Let me show you in the below examples. \n",
    "\n",
    "-  Creating a string with single quotes.\n",
    "\n",
    "-  Creating a string with double quotes.\n",
    "\n",
    "-  Creating a string with triple quotes."
   ]
  },
  {
   "cell_type": "code",
   "execution_count": 7,
   "id": "18a9016b",
   "metadata": {},
   "outputs": [
    {
     "name": "stdout",
     "output_type": "stream",
     "text": [
      "hello\n"
     ]
    }
   ],
   "source": [
    "#Creating a string with single quotes.\n",
    "string = 'hello'\n",
    "print(string)"
   ]
  },
  {
   "cell_type": "code",
   "execution_count": 8,
   "id": "8d29667d",
   "metadata": {},
   "outputs": [
    {
     "name": "stdout",
     "output_type": "stream",
     "text": [
      "hello\n"
     ]
    }
   ],
   "source": [
    "#Creating a string with double quotes.\n",
    "string = \"hello\"\n",
    "print(string)"
   ]
  },
  {
   "cell_type": "code",
   "execution_count": 11,
   "id": "5df0436a",
   "metadata": {},
   "outputs": [
    {
     "name": "stdout",
     "output_type": "stream",
     "text": [
      "hello\n"
     ]
    }
   ],
   "source": [
    "#Creating a string with triple quotes.\n",
    "string = '''hello'''\n",
    "\n",
    "print(string)"
   ]
  },
  {
   "cell_type": "markdown",
   "id": "4d8341b2",
   "metadata": {},
   "source": [
    "If you see above, all the 3 ways of denotion gives the same output. Now you might think that why do we use 3 ways to denote a string when all the 3 types can give the same output. \n",
    "\n",
    "Let me show you why in the below examples:"
   ]
  },
  {
   "cell_type": "code",
   "execution_count": 15,
   "id": "a9cdae92",
   "metadata": {},
   "outputs": [
    {
     "name": "stdout",
     "output_type": "stream",
     "text": [
      "hello!\n"
     ]
    }
   ],
   "source": [
    "string1 = 'hello!'\n",
    "print(string1)"
   ]
  },
  {
   "cell_type": "code",
   "execution_count": 16,
   "id": "99871dfe",
   "metadata": {},
   "outputs": [
    {
     "ename": "SyntaxError",
     "evalue": "invalid syntax (9960318.py, line 1)",
     "output_type": "error",
     "traceback": [
      "\u001b[0;36m  File \u001b[0;32m\"/var/folders/03/h994clb13fqgfy51lcqd3sxw0000gn/T/ipykernel_21391/9960318.py\"\u001b[0;36m, line \u001b[0;32m1\u001b[0m\n\u001b[0;31m    string2 = 'this is harish's bag'\u001b[0m\n\u001b[0m                              ^\u001b[0m\n\u001b[0;31mSyntaxError\u001b[0m\u001b[0;31m:\u001b[0m invalid syntax\n"
     ]
    }
   ],
   "source": [
    "string2 = 'this is harish's bag'\n",
    "print(string2)"
   ]
  },
  {
   "cell_type": "code",
   "execution_count": 17,
   "id": "e8d2276d",
   "metadata": {},
   "outputs": [
    {
     "name": "stdout",
     "output_type": "stream",
     "text": [
      "this is harish's bag\n"
     ]
    }
   ],
   "source": [
    "string2 = \"this is harish's bag\"\n",
    "print(string2)"
   ]
  },
  {
   "cell_type": "code",
   "execution_count": 20,
   "id": "5dbd09ad",
   "metadata": {},
   "outputs": [
    {
     "ename": "SyntaxError",
     "evalue": "EOL while scanning string literal (55359108.py, line 1)",
     "output_type": "error",
     "traceback": [
      "\u001b[0;36m  File \u001b[0;32m\"/var/folders/03/h994clb13fqgfy51lcqd3sxw0000gn/T/ipykernel_21391/55359108.py\"\u001b[0;36m, line \u001b[0;32m1\u001b[0m\n\u001b[0;31m    string3 = 'My firstname is Harish.\u001b[0m\n\u001b[0m                                      ^\u001b[0m\n\u001b[0;31mSyntaxError\u001b[0m\u001b[0;31m:\u001b[0m EOL while scanning string literal\n"
     ]
    }
   ],
   "source": [
    "string3 = 'My firstname is Harish.\n",
    "My lastname is Panjikar.'\n",
    "print(string3)"
   ]
  },
  {
   "cell_type": "code",
   "execution_count": 21,
   "id": "4cb95b3c",
   "metadata": {},
   "outputs": [
    {
     "ename": "SyntaxError",
     "evalue": "EOL while scanning string literal (2087989233.py, line 1)",
     "output_type": "error",
     "traceback": [
      "\u001b[0;36m  File \u001b[0;32m\"/var/folders/03/h994clb13fqgfy51lcqd3sxw0000gn/T/ipykernel_21391/2087989233.py\"\u001b[0;36m, line \u001b[0;32m1\u001b[0m\n\u001b[0;31m    string3 = \"My firstname is Harish.\u001b[0m\n\u001b[0m                                      ^\u001b[0m\n\u001b[0;31mSyntaxError\u001b[0m\u001b[0;31m:\u001b[0m EOL while scanning string literal\n"
     ]
    }
   ],
   "source": [
    "string3 = \"My firstname is Harish.\n",
    "My lastname is Panjikar.\"\n",
    "print(string3)"
   ]
  },
  {
   "cell_type": "code",
   "execution_count": 19,
   "id": "5063f8f9",
   "metadata": {},
   "outputs": [
    {
     "name": "stdout",
     "output_type": "stream",
     "text": [
      "My firstname is Harish.\n",
      "My lastname is Panjikar.\n"
     ]
    }
   ],
   "source": [
    "string3 = '''My firstname is Harish.\n",
    "My lastname is Panjikar.'''\n",
    "print(string3)"
   ]
  },
  {
   "cell_type": "markdown",
   "id": "7275795c",
   "metadata": {},
   "source": [
    "From the above examples, we learn that:\n",
    "-  single quotes can be used for characters or statements without ' in it. \n",
    "-  double quotes are used when the string includes ' in it. \n",
    "-  triple quotes are used to write a string in multiple lines. \n"
   ]
  },
  {
   "cell_type": "markdown",
   "id": "362340cd",
   "metadata": {},
   "source": [
    "## How strings are stored in memory? "
   ]
  },
  {
   "cell_type": "markdown",
   "id": "cd249eed",
   "metadata": {},
   "source": [
    "Strings are saved in memory using ‘Interned Dictionary.’ It’s a simple dictionary that stores the character as the key and the address as the value. Let’s understand this with the help of an example:"
   ]
  },
  {
   "cell_type": "code",
   "execution_count": 22,
   "id": "c1acda91",
   "metadata": {},
   "outputs": [],
   "source": [
    "s = \"Hello World\""
   ]
  },
  {
   "attachments": {
    "1_vt1QNGyVgbvZcpq7k4SaFg.webp": {
     "image/webp": "[encoded data removed]"
    }
   },
   "cell_type": "markdown",
   "id": "91ee3849",
   "metadata": {},
   "source": [
    "![1_vt1QNGyVgbvZcpq7k4SaFg.webp](attachment:1_vt1QNGyVgbvZcpq7k4SaFg.webp)"
   ]
  },
  {
   "cell_type": "markdown",
   "id": "9b151e26",
   "metadata": {},
   "source": [
    "If you see above, the string \"Hello World\" has been saved in the variable called s with certain numbers above the characters and variables. These are called the addresses of the of where the characters of the strings are saved in a variable.  \n",
    "Let me show you by listing down a single example:"
   ]
  },
  {
   "cell_type": "code",
   "execution_count": 25,
   "id": "6dc27e5a",
   "metadata": {},
   "outputs": [
    {
     "name": "stdout",
     "output_type": "stream",
     "text": [
      "A\n",
      "A\n",
      "140351076604592\n",
      "140351076604592\n"
     ]
    }
   ],
   "source": [
    "s1 = 'A' \n",
    "s2 = s1\n",
    "print(s1)\n",
    "print(s2)\n",
    "print(id(s1))\n",
    "print(id(s2))"
   ]
  },
  {
   "attachments": {
    "1_di3KAgIBpZT7pKt7JQkR5Q.webp": {
     "image/webp": "[encoded data removed]"
    }
   },
   "cell_type": "markdown",
   "id": "879e5e0a",
   "metadata": {},
   "source": [
    "![1_di3KAgIBpZT7pKt7JQkR5Q.webp](attachment:1_di3KAgIBpZT7pKt7JQkR5Q.webp)"
   ]
  },
  {
   "cell_type": "markdown",
   "id": "74070b79",
   "metadata": {},
   "source": [
    "when we created the first string s1, a string object gets created inside the memory, after this starts the process of string interning. Python will first look up into the interned dictionary if the character ‘A’ exists, as it was empty initially. A new key-value pair gets created, the character ‘A’ is set as the key and the location of the object in which it resides is set as the value that is 123."
   ]
  },
  {
   "cell_type": "markdown",
   "id": "0b52834d",
   "metadata": {},
   "source": [
    "In the next step, when we assigned the string s1 to s2, the address present in s1 is sent to s2 and s2 starts to point towards the same object! We call this a reference-type assignment."
   ]
  },
  {
   "attachments": {
    "1__FuhZn8HNZhv0VwsonUHOg.webp": {
     "image/webp": "[encoded data removed]"
    }
   },
   "cell_type": "markdown",
   "id": "5449ef59",
   "metadata": {},
   "source": [
    "![1__FuhZn8HNZhv0VwsonUHOg.webp](attachment:1__FuhZn8HNZhv0VwsonUHOg.webp)"
   ]
  },
  {
   "cell_type": "markdown",
   "id": "da1b3a59",
   "metadata": {},
   "source": [
    "## Indexing in Strings"
   ]
  },
  {
   "cell_type": "markdown",
   "id": "c11d46c1",
   "metadata": {},
   "source": [
    "We can access the characters of the string by using index values considering the string as a list. \n",
    "\n",
    "Let me show you an example:"
   ]
  },
  {
   "cell_type": "code",
   "execution_count": 31,
   "id": "68852fba",
   "metadata": {},
   "outputs": [
    {
     "name": "stdout",
     "output_type": "stream",
     "text": [
      "['H', 'a', 'r', 'i', 's', 'h', ' ', 'P', 'a', 'n', 'j', 'i', 'k', 'a', 'r']\n",
      "P\n",
      "s\n"
     ]
    }
   ],
   "source": [
    "name = \"Harish Panjikar\"\n",
    "name = list(name)\n",
    "print(name)\n",
    "print(name[7])\n",
    "print(name[4])\n",
    "\n"
   ]
  },
  {
   "cell_type": "markdown",
   "id": "896a426b",
   "metadata": {},
   "source": [
    "If you see above, we have a string \"Harish Panjikar\" saved in a variable named name. Teh indexing in the string starts from left to right [0 - n] where n is being the last index of the string. \n",
    "\n",
    "We see that when searched for a character with index 7, the output is P as the character is saved on 7th index of the list."
   ]
  },
  {
   "cell_type": "code",
   "execution_count": 32,
   "id": "38315cbf",
   "metadata": {},
   "outputs": [
    {
     "name": "stdout",
     "output_type": "stream",
     "text": [
      "['H', 'a', 'r', 'i', 's', 'h', ' ', 'P', 'a', 'n', 'j', 'i', 'k', 'a', 'r']\n",
      "k\n",
      "r\n"
     ]
    }
   ],
   "source": [
    "name = \"Harish Panjikar\"\n",
    "name = list(name)\n",
    "print(name)\n",
    "print(name[-3])\n",
    "print(name[-1])\n"
   ]
  },
  {
   "cell_type": "markdown",
   "id": "3c46fb06",
   "metadata": {},
   "source": [
    "Likewise, we can find the characters from right to left by using negative indexing. Please note that positive indexing starts with 0 whereas negative indexing starts with -1. "
   ]
  },
  {
   "cell_type": "markdown",
   "id": "ecbc8e42",
   "metadata": {},
   "source": [
    "## Slicing in Strings"
   ]
  },
  {
   "cell_type": "markdown",
   "id": "93c6842c",
   "metadata": {},
   "source": [
    "Slicing is used to access a range of characters from a given list by using a slicing operator colon ':'.\n",
    "For example:\n"
   ]
  },
  {
   "cell_type": "code",
   "execution_count": 38,
   "id": "be72b1ce",
   "metadata": {},
   "outputs": [
    {
     "name": "stdout",
     "output_type": "stream",
     "text": [
      "['H', 'e', 'y', ' ', 't', 'h', 'e', 'r', 'e', '!']\n",
      " the\n"
     ]
    }
   ],
   "source": [
    "Greeting = \"Hey there!\"\n",
    "Greet=list(Greeting)\n",
    "print(Greet)\n",
    "print(Greeting[3:7])"
   ]
  },
  {
   "cell_type": "markdown",
   "id": "02aa41cc",
   "metadata": {},
   "source": [
    "In the above example, we try to find the characters between a range of 3 to 7. Please know that in slicing of the string ends 1 before the mentioned ending index of the range. \n",
    "If you check the above mentioned listfor reference and count the characters with index, you will notice that the characters from index 3 to 6 only have been printed. "
   ]
  },
  {
   "cell_type": "markdown",
   "id": "dff80e9f",
   "metadata": {},
   "source": [
    "## Methods in Strings "
   ]
  },
  {
   "cell_type": "code",
   "execution_count": 42,
   "id": "0f57cf7a",
   "metadata": {},
   "outputs": [
    {
     "name": "stdout",
     "output_type": "stream",
     "text": [
      "FOOTBALL \n"
     ]
    }
   ],
   "source": [
    "s = \"Football \"\n",
    "print(s.upper()) #converts the string to uppercase"
   ]
  },
  {
   "cell_type": "code",
   "execution_count": 41,
   "id": "54f32326",
   "metadata": {},
   "outputs": [
    {
     "name": "stdout",
     "output_type": "stream",
     "text": [
      "football \n"
     ]
    }
   ],
   "source": [
    "print(s.lower()) #coverts the string to lowercase"
   ]
  },
  {
   "cell_type": "code",
   "execution_count": 46,
   "id": "2be4e755",
   "metadata": {},
   "outputs": [
    {
     "name": "stdout",
     "output_type": "stream",
     "text": [
      "('Foot', 'bal', 'l ')\n"
     ]
    }
   ],
   "source": [
    "print(s.partition(\"bal\")) #returns a tuple"
   ]
  },
  {
   "cell_type": "code",
   "execution_count": 48,
   "id": "583cba97",
   "metadata": {},
   "outputs": [
    {
     "name": "stdout",
     "output_type": "stream",
     "text": [
      "Hello, Python! My Python\n"
     ]
    }
   ],
   "source": [
    "#replace()returns a new string where all occurrences of a specified substring are replaced with another substring.\n",
    "text = \"Hello, World! My World!\"\n",
    "new_text = text.replace(\"World\", \"Python\") \n",
    "print(new_text)\n"
   ]
  },
  {
   "cell_type": "code",
   "execution_count": 49,
   "id": "de5e67e4",
   "metadata": {},
   "outputs": [
    {
     "name": "stdout",
     "output_type": "stream",
     "text": [
      "hello\n"
     ]
    }
   ],
   "source": [
    "#strip() returns a new string with all leading and trailing whitespace removed.\n",
    "text = \"    hello     \"\n",
    "new_text = text.strip()\n",
    "print(new_text)"
   ]
  },
  {
   "cell_type": "code",
   "execution_count": 56,
   "id": "2c60dd6b",
   "metadata": {},
   "outputs": [
    {
     "name": "stdout",
     "output_type": "stream",
     "text": [
      "['apple', 'banana', 'cherry']\n"
     ]
    }
   ],
   "source": [
    "#split() returns list of substrings returned by a specified delimiter\n",
    "text = \"apple,banana,cherry\"\n",
    "fruits = text.split(\",\")\n",
    "print(fruits)"
   ]
  },
  {
   "cell_type": "code",
   "execution_count": 58,
   "id": "6bd6d6fb",
   "metadata": {},
   "outputs": [
    {
     "name": "stdout",
     "output_type": "stream",
     "text": [
      "apple,banana,cherry\n",
      "apple|banana|cherry\n"
     ]
    }
   ],
   "source": [
    "#join() joins the elements of a list into a string using a specified separator.\n",
    "fruits = [\"apple\", \"banana\", \"cherry\"]\n",
    "text1 = \",\".join(fruits)\n",
    "text2 = \"|\".join(fruits)\n",
    "print(text1)\n",
    "print(text2)"
   ]
  },
  {
   "cell_type": "code",
   "execution_count": 61,
   "id": "438a67ee",
   "metadata": {},
   "outputs": [
    {
     "name": "stdout",
     "output_type": "stream",
     "text": [
      "6\n"
     ]
    }
   ],
   "source": [
    "#find() returns the index of the first occurance of the specified substring. \n",
    "text = \"Hello World!\"\n",
    "new_text = text.find('World')\n",
    "print(new_text)"
   ]
  },
  {
   "cell_type": "code",
   "execution_count": 72,
   "id": "a9fc7a33",
   "metadata": {},
   "outputs": [
    {
     "name": "stdout",
     "output_type": "stream",
     "text": [
      "12\n"
     ]
    }
   ],
   "source": [
    "text = \"Hello World!\"\n",
    "print(len(text))"
   ]
  },
  {
   "cell_type": "code",
   "execution_count": 62,
   "id": "fecd7744",
   "metadata": {},
   "outputs": [
    {
     "name": "stdout",
     "output_type": "stream",
     "text": [
      "-1\n"
     ]
    }
   ],
   "source": [
    "text = \"Hello World!\"\n",
    "new_text = text.find('hey')\n",
    "print(new_text)"
   ]
  },
  {
   "cell_type": "code",
   "execution_count": 63,
   "id": "09c5d56c",
   "metadata": {},
   "outputs": [
    {
     "name": "stdout",
     "output_type": "stream",
     "text": [
      "3\n"
     ]
    }
   ],
   "source": [
    "#count() specifies the number of substring in a string. \n",
    "text = \"Hello World!\"\n",
    "new_text = text.count('l')\n",
    "print(new_text)"
   ]
  },
  {
   "cell_type": "markdown",
   "id": "093b0a76",
   "metadata": {},
   "source": [
    "## Operations on strings"
   ]
  },
  {
   "cell_type": "markdown",
   "id": "d816df7d",
   "metadata": {},
   "source": [
    "-  Comparing two strings "
   ]
  },
  {
   "cell_type": "code",
   "execution_count": 67,
   "id": "86059144",
   "metadata": {},
   "outputs": [
    {
     "name": "stdout",
     "output_type": "stream",
     "text": [
      "False\n",
      "False\n",
      "True\n"
     ]
    }
   ],
   "source": [
    "str1 =\"Hey there!\"\n",
    "str2= \"I am Harish!\"\n",
    "str3= \"Hey there!\"\n",
    "\n",
    "print(str1 == str2)\n",
    "print(str2 == str3)\n",
    "print(str1 == str3)\n"
   ]
  },
  {
   "cell_type": "markdown",
   "id": "888eb102",
   "metadata": {},
   "source": [
    "Above I have tried comparing the 3 strings with each other using == operator. In this operation, the characters are checked if they are similar to eachother index by index. "
   ]
  },
  {
   "cell_type": "markdown",
   "id": "30465455",
   "metadata": {},
   "source": [
    "-  concatenating or joining two strings "
   ]
  },
  {
   "cell_type": "code",
   "execution_count": 69,
   "id": "896bd93e",
   "metadata": {},
   "outputs": [
    {
     "name": "stdout",
     "output_type": "stream",
     "text": [
      "Hey Harish\n"
     ]
    }
   ],
   "source": [
    "greet = 'Hey'\n",
    "name = 'Harish'\n",
    "result = greet + \" \" + name \n",
    "print(result)"
   ]
  },
  {
   "cell_type": "markdown",
   "id": "d641e975",
   "metadata": {},
   "source": [
    "In the above example, i have tried to add the variables which have strings saved in them."
   ]
  },
  {
   "cell_type": "markdown",
   "id": "22500ad3",
   "metadata": {},
   "source": [
    "-  repeating a string by using repetition operator"
   ]
  },
  {
   "cell_type": "code",
   "execution_count": 70,
   "id": "8e1bf40e",
   "metadata": {},
   "outputs": [
    {
     "name": "stdout",
     "output_type": "stream",
     "text": [
      "Hey Afsan!Hey Afsan!Hey Afsan!Hey Afsan!Hey Afsan!Hey Afsan!Hey Afsan!Hey Afsan!Hey Afsan!Hey Afsan!\n"
     ]
    }
   ],
   "source": [
    "str = \"Hey Afsan!\"\n",
    "print(str*10)"
   ]
  },
  {
   "cell_type": "markdown",
   "id": "6f6fd43e",
   "metadata": {},
   "source": [
    "-  membership operator "
   ]
  },
  {
   "cell_type": "code",
   "execution_count": 71,
   "id": "624c9536",
   "metadata": {},
   "outputs": [
    {
     "name": "stdout",
     "output_type": "stream",
     "text": [
      "True\n",
      "True\n",
      "True\n",
      "False\n"
     ]
    }
   ],
   "source": [
    "string1 = \"helloworld\"\n",
    "print(\"w\" in string1)\n",
    "print(\"t\" not in string1)\n",
    "print(\"hello\" in string1)\n",
    "print(\"hello\" not in string1)"
   ]
  },
  {
   "cell_type": "markdown",
   "id": "6066d493",
   "metadata": {},
   "source": [
    "In the above example, you will see that the membership operator is used for find a substring in the string."
   ]
  },
  {
   "cell_type": "markdown",
   "id": "f85eca7d",
   "metadata": {},
   "source": [
    "## Properties of Strings"
   ]
  },
  {
   "cell_type": "markdown",
   "id": "06d95a0e",
   "metadata": {},
   "source": [
    "-  Strings are immutable. The only way to modify the existing string is by creating a new string and assigning it to the same variable but you cannot modify the string directly.\n",
    "-  You can find the existance of characters by accessing them via indexing and slicing the string. \n",
    "-  you can concatenate two strings by assigning it to a variable and then using the concatanation operator. \n"
   ]
  },
  {
   "cell_type": "markdown",
   "id": "35ec12cf",
   "metadata": {},
   "source": [
    "## Use-case for strings"
   ]
  },
  {
   "cell_type": "markdown",
   "id": "04add484",
   "metadata": {},
   "source": [
    "-  Strings can be used in user interfaces in web development where you need display the labels of any substance of the website. \n",
    "-  strings are used in parsing and processing structured data such as CSV and JSON data."
   ]
  },
  {
   "cell_type": "markdown",
   "id": "18fc53fb",
   "metadata": {},
   "source": [
    "#### Q. What is the difference between index and find in a string! explain with example"
   ]
  },
  {
   "cell_type": "code",
   "execution_count": 73,
   "id": "0a7f1adf",
   "metadata": {},
   "outputs": [
    {
     "name": "stdout",
     "output_type": "stream",
     "text": [
      "3\n"
     ]
    }
   ],
   "source": [
    "text = \"Haloween\"\n",
    "s= text.index('ow')\n",
    "print(s)"
   ]
  },
  {
   "cell_type": "code",
   "execution_count": 74,
   "id": "09922b6a",
   "metadata": {},
   "outputs": [
    {
     "ename": "ValueError",
     "evalue": "substring not found",
     "output_type": "error",
     "traceback": [
      "\u001b[0;31m---------------------------------------------------------------------------\u001b[0m",
      "\u001b[0;31mValueError\u001b[0m                                Traceback (most recent call last)",
      "\u001b[0;32m/var/folders/03/h994clb13fqgfy51lcqd3sxw0000gn/T/ipykernel_21391/646808977.py\u001b[0m in \u001b[0;36m<module>\u001b[0;34m\u001b[0m\n\u001b[1;32m      1\u001b[0m \u001b[0mtext\u001b[0m \u001b[0;34m=\u001b[0m \u001b[0;34m\"Haloween\"\u001b[0m\u001b[0;34m\u001b[0m\u001b[0;34m\u001b[0m\u001b[0m\n\u001b[0;32m----> 2\u001b[0;31m \u001b[0ms\u001b[0m\u001b[0;34m=\u001b[0m \u001b[0mtext\u001b[0m\u001b[0;34m.\u001b[0m\u001b[0mindex\u001b[0m\u001b[0;34m(\u001b[0m\u001b[0;34m'k'\u001b[0m\u001b[0;34m)\u001b[0m\u001b[0;34m\u001b[0m\u001b[0;34m\u001b[0m\u001b[0m\n\u001b[0m\u001b[1;32m      3\u001b[0m \u001b[0mprint\u001b[0m\u001b[0;34m(\u001b[0m\u001b[0ms\u001b[0m\u001b[0;34m)\u001b[0m\u001b[0;34m\u001b[0m\u001b[0;34m\u001b[0m\u001b[0m\n",
      "\u001b[0;31mValueError\u001b[0m: substring not found"
     ]
    }
   ],
   "source": [
    "text = \"Haloween\"\n",
    "s= text.index('k')\n",
    "print(s)"
   ]
  },
  {
   "cell_type": "code",
   "execution_count": 75,
   "id": "8edc79e3",
   "metadata": {},
   "outputs": [
    {
     "name": "stdout",
     "output_type": "stream",
     "text": [
      "3\n"
     ]
    }
   ],
   "source": [
    "text = \"Haloween\"\n",
    "s= text.find('ow')\n",
    "print(s)"
   ]
  },
  {
   "cell_type": "code",
   "execution_count": 77,
   "id": "efc8209a",
   "metadata": {},
   "outputs": [
    {
     "name": "stdout",
     "output_type": "stream",
     "text": [
      "-1\n"
     ]
    }
   ],
   "source": [
    "text = \"Haloween\"\n",
    "s= text.find('k')\n",
    "print(s)"
   ]
  },
  {
   "cell_type": "markdown",
   "id": "04395350",
   "metadata": {},
   "source": [
    "If you see above, the main difference between an index function and a find function is that the index function throws a value error where as the find function throws -1 as an output. \n",
    "\n",
    "One should be using the find function instead of an index function when they are not sure about the presence of a substring. \n",
    "\n",
    "An advantage that index function has over find function is that you can use index function for string,list as well as tuples whereas the find function will throw an error when used in list and tuples\n"
   ]
  },
  {
   "cell_type": "code",
   "execution_count": 78,
   "id": "e1982e96",
   "metadata": {},
   "outputs": [
    {
     "ename": "AttributeError",
     "evalue": "'list' object has no attribute 'find'",
     "output_type": "error",
     "traceback": [
      "\u001b[0;31m---------------------------------------------------------------------------\u001b[0m",
      "\u001b[0;31mAttributeError\u001b[0m                            Traceback (most recent call last)",
      "\u001b[0;32m/var/folders/03/h994clb13fqgfy51lcqd3sxw0000gn/T/ipykernel_21391/3540817743.py\u001b[0m in \u001b[0;36m<module>\u001b[0;34m\u001b[0m\n\u001b[1;32m      1\u001b[0m \u001b[0mtext\u001b[0m \u001b[0;34m=\u001b[0m \u001b[0;34m[\u001b[0m\u001b[0;34m\"Haloween\"\u001b[0m\u001b[0;34m,\u001b[0m\u001b[0;34m\"hey\"\u001b[0m\u001b[0;34m]\u001b[0m\u001b[0;34m\u001b[0m\u001b[0;34m\u001b[0m\u001b[0m\n\u001b[0;32m----> 2\u001b[0;31m \u001b[0ms\u001b[0m\u001b[0;34m=\u001b[0m \u001b[0mtext\u001b[0m\u001b[0;34m.\u001b[0m\u001b[0mfind\u001b[0m\u001b[0;34m(\u001b[0m\u001b[0;34m'hey'\u001b[0m\u001b[0;34m)\u001b[0m\u001b[0;34m\u001b[0m\u001b[0;34m\u001b[0m\u001b[0m\n\u001b[0m\u001b[1;32m      3\u001b[0m \u001b[0mprint\u001b[0m\u001b[0;34m(\u001b[0m\u001b[0ms\u001b[0m\u001b[0;34m)\u001b[0m\u001b[0;34m\u001b[0m\u001b[0;34m\u001b[0m\u001b[0m\n",
      "\u001b[0;31mAttributeError\u001b[0m: 'list' object has no attribute 'find'"
     ]
    }
   ],
   "source": [
    "text = [\"Haloween\",\"hey\"]\n",
    "s= text.find('hey')\n",
    "print(s)"
   ]
  },
  {
   "cell_type": "code",
   "execution_count": 79,
   "id": "4fa940c5",
   "metadata": {},
   "outputs": [
    {
     "ename": "AttributeError",
     "evalue": "'tuple' object has no attribute 'find'",
     "output_type": "error",
     "traceback": [
      "\u001b[0;31m---------------------------------------------------------------------------\u001b[0m",
      "\u001b[0;31mAttributeError\u001b[0m                            Traceback (most recent call last)",
      "\u001b[0;32m/var/folders/03/h994clb13fqgfy51lcqd3sxw0000gn/T/ipykernel_21391/745976892.py\u001b[0m in \u001b[0;36m<module>\u001b[0;34m\u001b[0m\n\u001b[1;32m      1\u001b[0m \u001b[0mtext\u001b[0m \u001b[0;34m=\u001b[0m \u001b[0;34m(\u001b[0m\u001b[0;34m\"Haloween\"\u001b[0m\u001b[0;34m,\u001b[0m\u001b[0;34m\"hey\"\u001b[0m\u001b[0;34m)\u001b[0m\u001b[0;34m\u001b[0m\u001b[0;34m\u001b[0m\u001b[0m\n\u001b[0;32m----> 2\u001b[0;31m \u001b[0ms\u001b[0m\u001b[0;34m=\u001b[0m \u001b[0mtext\u001b[0m\u001b[0;34m.\u001b[0m\u001b[0mfind\u001b[0m\u001b[0;34m(\u001b[0m\u001b[0;34m'hey'\u001b[0m\u001b[0;34m)\u001b[0m\u001b[0;34m\u001b[0m\u001b[0;34m\u001b[0m\u001b[0m\n\u001b[0m\u001b[1;32m      3\u001b[0m \u001b[0mprint\u001b[0m\u001b[0;34m(\u001b[0m\u001b[0ms\u001b[0m\u001b[0;34m)\u001b[0m\u001b[0;34m\u001b[0m\u001b[0;34m\u001b[0m\u001b[0m\n",
      "\u001b[0;31mAttributeError\u001b[0m: 'tuple' object has no attribute 'find'"
     ]
    }
   ],
   "source": [
    "text = (\"Haloween\",\"hey\")\n",
    "s= text.find('hey')\n",
    "print(s)"
   ]
  },
  {
   "cell_type": "code",
   "execution_count": 80,
   "id": "57bb694d",
   "metadata": {},
   "outputs": [
    {
     "name": "stdout",
     "output_type": "stream",
     "text": [
      "1\n"
     ]
    }
   ],
   "source": [
    "text = [\"Haloween\",\"hey\"]\n",
    "s= text.index('hey')\n",
    "print(s)"
   ]
  },
  {
   "cell_type": "code",
   "execution_count": 81,
   "id": "d038bf86",
   "metadata": {},
   "outputs": [
    {
     "name": "stdout",
     "output_type": "stream",
     "text": [
      "1\n"
     ]
    }
   ],
   "source": [
    "text = (\"Haloween\",\"hey\")\n",
    "s= text.index('hey')\n",
    "print(s)"
   ]
  },
  {
   "cell_type": "markdown",
   "id": "74df21e2",
   "metadata": {},
   "source": [
    "#### Q2. player = \"Rashford\". what will be output of the following code explain!\n",
    "  player[::-1] , player[1:5:3], player[1:8:-2], player[-1:-7:2] , player[-5:-1:2], player[6:2:-1]"
   ]
  },
  {
   "cell_type": "code",
   "execution_count": 83,
   "id": "889f7677",
   "metadata": {},
   "outputs": [
    {
     "name": "stdout",
     "output_type": "stream",
     "text": [
      "drofhsaR\n"
     ]
    }
   ],
   "source": [
    "player= \"Rashford\"\n",
    "print(player[::-1])\n",
    "#the above string is reversed"
   ]
  },
  {
   "cell_type": "code",
   "execution_count": 84,
   "id": "3c1bdc6e",
   "metadata": {},
   "outputs": [
    {
     "name": "stdout",
     "output_type": "stream",
     "text": [
      "af\n"
     ]
    }
   ],
   "source": [
    "player= \"Rashford\"\n",
    "print(player[1:5:3])\n"
   ]
  },
  {
   "cell_type": "markdown",
   "id": "41a44be2",
   "metadata": {},
   "source": [
    "the above slicing method will print characters between index 1 and 5 with slice to print every third character.\n"
   ]
  },
  {
   "cell_type": "code",
   "execution_count": 94,
   "id": "2615ec55",
   "metadata": {},
   "outputs": [
    {
     "name": "stdout",
     "output_type": "stream",
     "text": [
      "\n"
     ]
    }
   ],
   "source": [
    "player= \"Rashford\"\n",
    "print(player[1:8:-2])"
   ]
  },
  {
   "cell_type": "markdown",
   "id": "7463a5f3",
   "metadata": {},
   "source": [
    "When using a step value, it must be a positive integer. In this case, a step value of -2 means that the slice should start at index 1 and go backwards by 2 characters until it reaches index 8. However, since the step is negative, the slice can only go backwards from the start index towards the end index, which is not possible in this case since the end index is smaller than the start index."
   ]
  },
  {
   "cell_type": "code",
   "execution_count": 98,
   "id": "2cacbec5",
   "metadata": {},
   "outputs": [
    {
     "name": "stdout",
     "output_type": "stream",
     "text": [
      "doh\n"
     ]
    }
   ],
   "source": [
    "player= \"Rashford\"\n",
    "print(player[-1:-7:-2])"
   ]
  },
  {
   "cell_type": "markdown",
   "id": "9a11241c",
   "metadata": {},
   "source": [
    "in this case, player[-1] refers to the last character of the string, which has an index of -1, and player[-7] refers to the 7th character from the end of the string, which has an index of -7. Therefore, player[-1:-7:2] is an empty string slice because it specifies an empty range."
   ]
  },
  {
   "cell_type": "code",
   "execution_count": 99,
   "id": "36aced4e",
   "metadata": {},
   "outputs": [
    {
     "name": "stdout",
     "output_type": "stream",
     "text": [
      "ho\n"
     ]
    }
   ],
   "source": [
    "player= \"Rashford\"\n",
    "print(player[-5:-1:2])"
   ]
  },
  {
   "cell_type": "markdown",
   "id": "39d95f2f",
   "metadata": {},
   "source": [
    "In the above example, the start index is larger than the end index and the step size is positive. Hence we are able to receive the output."
   ]
  },
  {
   "cell_type": "code",
   "execution_count": 100,
   "id": "e5626344",
   "metadata": {},
   "outputs": [
    {
     "name": "stdout",
     "output_type": "stream",
     "text": [
      "rofh\n"
     ]
    }
   ],
   "source": [
    "player= \"Rashford\"\n",
    "print(player[6:2:-1])"
   ]
  },
  {
   "cell_type": "markdown",
   "id": "6ddfef84",
   "metadata": {},
   "source": [
    "#### Q3. When we use replace method to replace word/char in string so do we get a new string or the changes are made in the original string itself? explain with an example"
   ]
  },
  {
   "cell_type": "code",
   "execution_count": 105,
   "id": "9e0e23f3",
   "metadata": {},
   "outputs": [
    {
     "name": "stdout",
     "output_type": "stream",
     "text": [
      "Hashford\n",
      "Rashford\n"
     ]
    }
   ],
   "source": [
    "text = \"Rashford\"\n",
    "text1= text.replace('R','H')\n",
    "print(text1)\n",
    "print(text)"
   ]
  },
  {
   "cell_type": "code",
   "execution_count": 103,
   "id": "dc052bb8",
   "metadata": {
    "scrolled": true
   },
   "outputs": [
    {
     "name": "stdout",
     "output_type": "stream",
     "text": [
      "140351361176496\n",
      "140351113489008\n"
     ]
    }
   ],
   "source": [
    "print(id(text))\n",
    "print(id(text1))"
   ]
  },
  {
   "cell_type": "markdown",
   "id": "e8853d10",
   "metadata": {},
   "source": [
    "Since strings are immutable, one will have to save the replaced string or a charater in different address. \n",
    "\n",
    "You can see above that addresses of both variables are different. "
   ]
  }
 ],
 "metadata": {
  "kernelspec": {
   "display_name": "Python 3 (ipykernel)",
   "language": "python",
   "name": "python3"
  },
  "language_info": {
   "codemirror_mode": {
    "name": "ipython",
    "version": 3
   },
   "file_extension": ".py",
   "mimetype": "text/x-python",
   "name": "python",
   "nbconvert_exporter": "python",
   "pygments_lexer": "ipython3",
   "version": "3.9.13"
  }
 },
 "nbformat": 4,
 "nbformat_minor": 5
}
