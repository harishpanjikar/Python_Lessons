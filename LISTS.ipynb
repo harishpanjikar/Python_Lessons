{
 "cells": [
  {
   "cell_type": "markdown",
   "id": "e9b7d9ac",
   "metadata": {},
   "source": [
    "#### What are Lists in Python?"
   ]
  },
  {
   "cell_type": "markdown",
   "id": "79f4a710",
   "metadata": {},
   "source": [
    "Lists is basically a bulit in data structure that is used to store elements in a single variable. They are ordered and the elements can be accessed using index of the element in the list. "
   ]
  },
  {
   "cell_type": "code",
   "execution_count": 1,
   "id": "3aff2a67",
   "metadata": {},
   "outputs": [],
   "source": [
    "my_list = [1, 2, 3, 4, 5]\n"
   ]
  },
  {
   "cell_type": "markdown",
   "id": "815c12cf",
   "metadata": {},
   "source": [
    "#### Properties of Lists"
   ]
  },
  {
   "cell_type": "markdown",
   "id": "ebf1288d",
   "metadata": {},
   "source": [
    "- Ordered: List maintains the ordere of the elements as they are added. "
   ]
  },
  {
   "cell_type": "code",
   "execution_count": 2,
   "id": "7f9ccdf7",
   "metadata": {},
   "outputs": [
    {
     "name": "stdout",
     "output_type": "stream",
     "text": [
      "[1, 2, 3, 4, 5]\n"
     ]
    }
   ],
   "source": [
    "l1 = [1,2,3,4,5]\n",
    "print(l1)"
   ]
  },
  {
   "cell_type": "markdown",
   "id": "73fe24a5",
   "metadata": {},
   "source": [
    "- Mutable: Elements in the lists can be changed, added or removed."
   ]
  },
  {
   "cell_type": "code",
   "execution_count": 3,
   "id": "8009adc3",
   "metadata": {},
   "outputs": [
    {
     "name": "stdout",
     "output_type": "stream",
     "text": [
      "[1, 'Harish', 3, 4, 5]\n"
     ]
    }
   ],
   "source": [
    "l1[1]= 'Harish'\n",
    "print(l1)"
   ]
  },
  {
   "cell_type": "markdown",
   "id": "873e34df",
   "metadata": {},
   "source": [
    "- Dynamic: Lists can shrink or grow as the elements are added or removed. "
   ]
  },
  {
   "cell_type": "code",
   "execution_count": 4,
   "id": "8011432a",
   "metadata": {},
   "outputs": [
    {
     "name": "stdout",
     "output_type": "stream",
     "text": [
      "[1, 'Harish', 3, 4, 5, 'Afsan']\n"
     ]
    }
   ],
   "source": [
    "l1.append('Afsan')\n",
    "print(l1)"
   ]
  },
  {
   "cell_type": "code",
   "execution_count": 5,
   "id": "45b2fc04",
   "metadata": {},
   "outputs": [
    {
     "name": "stdout",
     "output_type": "stream",
     "text": [
      "6\n"
     ]
    }
   ],
   "source": [
    "print(len(l1))"
   ]
  },
  {
   "cell_type": "code",
   "execution_count": 6,
   "id": "c1bb7063",
   "metadata": {},
   "outputs": [
    {
     "name": "stdout",
     "output_type": "stream",
     "text": [
      "[1, 'Harish', 3, 4, 'Afsan']\n"
     ]
    }
   ],
   "source": [
    "l1.remove(5)\n",
    "print(l1)"
   ]
  },
  {
   "cell_type": "code",
   "execution_count": 7,
   "id": "e279d065",
   "metadata": {},
   "outputs": [
    {
     "name": "stdout",
     "output_type": "stream",
     "text": [
      "5\n"
     ]
    }
   ],
   "source": [
    "print(len(l1))"
   ]
  },
  {
   "cell_type": "code",
   "execution_count": 9,
   "id": "9af75c15",
   "metadata": {},
   "outputs": [
    {
     "name": "stdout",
     "output_type": "stream",
     "text": [
      "[1, 'Harish', 3]\n",
      "3\n"
     ]
    }
   ],
   "source": [
    "l1.pop()\n",
    "print(l1)\n",
    "print(len(l1))"
   ]
  },
  {
   "cell_type": "markdown",
   "id": "7f2f93d5",
   "metadata": {},
   "source": [
    "- Heterogenous: Lists can contain elements of multiple data-types."
   ]
  },
  {
   "cell_type": "code",
   "execution_count": 11,
   "id": "29ce931b",
   "metadata": {},
   "outputs": [],
   "source": [
    "l2= [\"Harish\", 3, 2.5656, True]"
   ]
  },
  {
   "cell_type": "markdown",
   "id": "13c1d276",
   "metadata": {},
   "source": [
    "- Nested: Lists can contain lists within them. "
   ]
  },
  {
   "cell_type": "code",
   "execution_count": 12,
   "id": "480f91de",
   "metadata": {},
   "outputs": [],
   "source": [
    "l3 = [[1, 2, 3], [4, 5, 6], [7, 8, 9]]"
   ]
  },
  {
   "cell_type": "markdown",
   "id": "7fb78a51",
   "metadata": {},
   "source": [
    "- Iterable: One can iterate over list using a loop."
   ]
  },
  {
   "cell_type": "code",
   "execution_count": 16,
   "id": "92fe3024",
   "metadata": {},
   "outputs": [
    {
     "name": "stdout",
     "output_type": "stream",
     "text": [
      "[1, 2, 3]\n",
      "[4, 5, 6]\n",
      "[7, 8, 9]\n"
     ]
    }
   ],
   "source": [
    "for i in l3:\n",
    "    print(i)"
   ]
  },
  {
   "cell_type": "code",
   "execution_count": 17,
   "id": "2c537c82",
   "metadata": {},
   "outputs": [
    {
     "name": "stdout",
     "output_type": "stream",
     "text": [
      "1\n",
      "2\n",
      "3\n",
      "4\n",
      "5\n",
      "6\n",
      "7\n",
      "8\n",
      "9\n"
     ]
    }
   ],
   "source": [
    "for i in l3:\n",
    "    for j in i:\n",
    "        print(j)"
   ]
  },
  {
   "cell_type": "markdown",
   "id": "0c1ff07f",
   "metadata": {},
   "source": [
    "- Slicing: You can extract a portion of list using slicing technique. "
   ]
  },
  {
   "cell_type": "code",
   "execution_count": 23,
   "id": "a01dd07d",
   "metadata": {},
   "outputs": [
    {
     "name": "stdout",
     "output_type": "stream",
     "text": [
      "[[7, 8, 9]]\n",
      "[[1, 2, 3], [4, 5, 6]]\n"
     ]
    }
   ],
   "source": [
    "l3 = [[1, 2, 3], [4, 5, 6], [7, 8, 9]]\n",
    "print(l3[2:])\n",
    "print(l3[:-1])"
   ]
  },
  {
   "cell_type": "code",
   "execution_count": null,
   "id": "886285dc",
   "metadata": {},
   "outputs": [],
   "source": []
  }
 ],
 "metadata": {
  "kernelspec": {
   "display_name": "Python 3 (ipykernel)",
   "language": "python",
   "name": "python3"
  },
  "language_info": {
   "codemirror_mode": {
    "name": "ipython",
    "version": 3
   },
   "file_extension": ".py",
   "mimetype": "text/x-python",
   "name": "python",
   "nbconvert_exporter": "python",
   "pygments_lexer": "ipython3",
   "version": "3.9.13"
  }
 },
 "nbformat": 4,
 "nbformat_minor": 5
}
